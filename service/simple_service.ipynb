{
 "cells": [
  {
   "cell_type": "code",
   "execution_count": 20,
   "metadata": {},
   "outputs": [],
   "source": [
    "import mysql.connector\n",
    "\n",
    "conn = mysql.connector.connect(\n",
    "    host = 'database-1.cbwuowec22t2.ap-northeast-2.rds.amazonaws.com',\n",
    "    port = 3306,\n",
    "    user = 'team2',\n",
    "    password = \"1234\",\n",
    "    database = 'eda_project' \n",
    ")\n",
    "\n",
    "cur = conn.cursor(buffered=True)"
   ]
  },
  {
   "cell_type": "code",
   "execution_count": 21,
   "metadata": {},
   "outputs": [],
   "source": [
    "import pandas as pd\n",
    "\n",
    "# rank_for_gu\n",
    "cur.execute('SELECT * FROM rank_for_gu')\n",
    "rank_gu = cur.fetchall()\n",
    "\n",
    "rank_gu_df = pd.DataFrame(rank_gu, columns=['rank_gu_id',\n",
    "                                      'rank_school',\n",
    "                                      'rank_academy',\n",
    "                                      'rank_traffic_accident',\n",
    "                                      'rank_crime',\n",
    "                                      'rank_unhealthy_facility',\n",
    "                                      'rank_park',\n",
    "                                      'rank_library',\n",
    "                                      'rank_hospital',\n",
    "                                      'gu_id'])\n",
    "\n",
    "# rank_for_dong\n",
    "cur.execute('SELECT * FROM rank_for_dong')\n",
    "rank_dong = cur.fetchall()\n",
    "\n",
    "rank_dong_df = pd.DataFrame(rank_dong, columns=['rank_dong_id',\n",
    "                                      'rank_rent',\n",
    "                                      'rank_hospital',\n",
    "                                      'gu_id',\n",
    "                                      'dong_id'])\n",
    "\n",
    "# hospital\n",
    "cur.execute('SELECT * from hospital')\n",
    "hospital = cur.fetchall()\n",
    "\n",
    "hospital_df = pd.DataFrame(hospital, columns=['hospital_type',\n",
    "                                              'hospital_type',\n",
    "                                              'hospital_name',\n",
    "                                              'hospital_address',\n",
    "                                              'gu_id',\n",
    "                                              'doro_id',\n",
    "                                              'dong_id'])\n",
    "\n",
    "# real_estate\n",
    "cur.execute('SELECT * from real_estate')\n",
    "real_estate = cur.fetchall()\n",
    "\n",
    "real_estate_df = pd.DataFrame(real_estate, columns=['estate_id',\n",
    "                                                    'estate_type',\n",
    "                                                    'estate_size',\n",
    "                                                    'estate_rent',\n",
    "                                                    'estate_deposit',\n",
    "                                                    'gu_id',\n",
    "                                                    'dong_id',\n",
    "                                                    'estate_name'])\n"
   ]
  },
  {
   "cell_type": "code",
   "execution_count": 22,
   "metadata": {},
   "outputs": [],
   "source": [
    "rank_gu_df.to_csv('rank_gu.csv', index=False)\n",
    "rank_dong_df.to_csv('rank_dong.csv', index=False)\n",
    "hospital_df.to_csv('hospital.csv', index=False)\n",
    "real_estate_df.to_csv('real_estate.csv', index=False)"
   ]
  },
  {
   "cell_type": "code",
   "execution_count": 23,
   "metadata": {},
   "outputs": [],
   "source": [
    "# gu\n",
    "cur.execute('SELECT gu_id, gu_name, gu_code from gu')\n",
    "gu = cur.fetchall()\n",
    "\n",
    "gu_df = pd.DataFrame(gu, columns=['gu_id',\n",
    "                                  'gu_name',\n",
    "                                  'gu_code'])\n",
    "\n",
    "# dong\n",
    "cur.execute('SELECT * from dong')\n",
    "dong = cur.fetchall()\n",
    "\n",
    "dong_df = pd.DataFrame(dong, columns=['dong_id',\n",
    "                                  'dong_name',\n",
    "                                  'gu_id'])\n",
    "\n",
    "# doro\n",
    "cur.execute('SELECT * from doro')\n",
    "doro = cur.fetchall()\n",
    "\n",
    "doro_df = pd.DataFrame(doro, columns=['doro_id',\n",
    "                                  'doro_name',\n",
    "                                  'gu_id'])"
   ]
  },
  {
   "cell_type": "code",
   "execution_count": 24,
   "metadata": {},
   "outputs": [],
   "source": [
    "gu_df.to_csv('gu.csv', index=False)\n",
    "dong_df.to_csv('dong.csv', index=False)\n",
    "doro_df.to_csv('doro.csv', index=False)\n"
   ]
  },
  {
   "cell_type": "code",
   "execution_count": null,
   "metadata": {},
   "outputs": [],
   "source": [
    "import pandas as pd\n",
    "import folium\n",
    "import random\n",
    "from IPython.display import display\n",
    "import webbrowser\n",
    "import tempfile"
   ]
  },
  {
   "cell_type": "code",
   "execution_count": null,
   "metadata": {},
   "outputs": [],
   "source": [
    "def load_data():\n",
    "    global rank_gu_df, rank_dong_df, hospital_df, real_estate_df, gu_df, dong_df\n",
    "    rank_gu_df = pd.read_csv('/home/lee/dev_ws/projects/project01/eda-repo-2/service/rank_gu.csv')\n",
    "    rank_dong_df = pd.read_csv('/home/lee/dev_ws/projects/project01/eda-repo-2/service/rank_dong.csv')\n",
    "    hospital_df = pd.read_csv('/home/lee/dev_ws/projects/project01/eda-repo-2/service/hospital.csv')\n",
    "    real_estate_df = pd.read_csv('/home/lee/dev_ws/projects/project01/eda-repo-2/service/real_estate.csv')\n",
    "    gu_df = pd.read_csv('/home/lee/dev_ws/projects/project01/eda-repo-2/service/gu.csv')\n",
    "    dong_df = pd.read_csv('/home/lee/dev_ws/projects/project01/eda-repo-2/service/dong.csv')"
   ]
  },
  {
   "cell_type": "code",
   "execution_count": null,
   "metadata": {},
   "outputs": [],
   "source": [
    "def select_category():\n",
    "    while True:\n",
    "        print(\"카테고리를 선택하세요:\\n1. 교육\\n2. 안전\\n3. 공공시설\")\n",
    "        choice = input(\"번호 입력: \")\n",
    "        if choice in ['1', '2', '3']:\n",
    "            return int(choice)\n",
    "        else:\n",
    "            print(\"다시 골라 주세요.\")"
   ]
  },
  {
   "cell_type": "code",
   "execution_count": null,
   "metadata": {},
   "outputs": [],
   "source": [
    "def get_top5_average(rank_cols):\n",
    "    rank_gu_df['avg_rank'] = round((rank_gu_df[rank_cols].mean(axis=1)),2)\n",
    "    top5 = rank_gu_df.nlargest(5, 'avg_rank')\n",
    "    \n",
    "    top5 = top5.merge(gu_df[['gu_id', 'gu_name']], on='gu_id', how='left')\n",
    "    return top5[['gu_name', 'avg_rank', 'gu_id']]"
   ]
  },
  {
   "cell_type": "code",
   "execution_count": null,
   "metadata": {},
   "outputs": [],
   "source": [
    "def select_gu(top5_df):\n",
    "    print(\"TOP 5 구 중 하나를 선택하세요:\")\n",
    "    for idx, row in top5_df.iterrows():\n",
    "        print(f\"{idx + 1}. {row['gu_name']} - 평균 랭킹: {row['avg_rank']}\")\n",
    "    \n",
    "    choice = int(input(\"번호로 골라주세요! : \"))\n",
    "    selected_gu_id = top5_df.iloc[choice - 1]['gu_id']\n",
    "    return selected_gu_id"
   ]
  },
  {
   "cell_type": "code",
   "execution_count": null,
   "metadata": {},
   "outputs": [],
   "source": [
    "def select_preference():\n",
    "    print(\"추가적으로 원하는 것은 1. 의료 접근성\\n2. 주거비\")\n",
    "    return int(input(\"번호 입력: \"))"
   ]
  },
  {
   "cell_type": "code",
   "execution_count": null,
   "metadata": {},
   "outputs": [],
   "source": [
    "def show_hospital_map(hospitals):\n",
    "    map_center = [37.5665, 126.9780]\n",
    "    m = folium.Map(location=map_center, zoom_start=12)\n",
    "    for _, row in hospitals.iterrows():\n",
    "        folium.Marker(\n",
    "            location=[random.uniform(37.55, 37.58), random.uniform(126.97, 126.99)],\n",
    "            popup=row['hospital_name'],\n",
    "            tooltip=row['hospital_name']\n",
    "        ).add_to(m)\n",
    "    \n",
    "    with tempfile.NamedTemporaryFile(delete=False, suffix='.html') as tmpfile:\n",
    "        m.save(tmpfile.name)\n",
    "        webbrowser.open(f'file://{tmpfile.name}') "
   ]
  },
  {
   "cell_type": "code",
   "execution_count": null,
   "metadata": {},
   "outputs": [],
   "source": [
    "def show_hospital_info(gu_id):\n",
    "    top_dongs = rank_dong_df[rank_dong_df['gu_id'] == gu_id].nlargest(3, 'rank_hospital')[['gu_id', 'rank_hospital', 'dong_id']]\n",
    "    \n",
    "    top_dongs = top_dongs.merge(dong_df[['dong_id', 'dong_name']], on='dong_id', how='left')\n",
    "    \n",
    "    print(\"TOP 3를 뽑아봤습니다!\\n 하나를 선택해주세요:\")\n",
    "    for idx, row in top_dongs.iterrows():\n",
    "        print(f\"{idx + 1}. {row['dong_name']} - 병원 순위: {row['rank_hospital']}\")\n",
    "    \n",
    "    choice = int(input(\"번호로 골라주세요! : \"))\n",
    "    selected_dong_id = top_dongs.iloc[choice - 1]['dong_id']\n",
    "    \n",
    "    selected_hospitals = hospital_df[hospital_df['dong_id'] == selected_dong_id].sample(n=min(3, len(hospital_df)), random_state=42)\n",
    "    if selected_hospitals.empty:\n",
    "        print(\"병원이 없습니다ㅠㅠ\")\n",
    "    else:\n",
    "        display(selected_hospitals)\n",
    "        show_hospital_map(selected_hospitals)"
   ]
  },
  {
   "cell_type": "code",
   "execution_count": null,
   "metadata": {},
   "outputs": [],
   "source": [
    "def show_real_estate_info(gu_id):\n",
    "    top_dongs = rank_dong_df[rank_dong_df['gu_id'] == gu_id].nlargest(3, 'rank_rent')[['gu_id', 'rank_rent', 'dong_id']]\n",
    "\n",
    "    top_dongs = top_dongs.merge(dong_df[['dong_id', 'dong_name']], on='dong_id', how='left')\n",
    "    \n",
    "    print(\"주거비가 낮은 TOP 3 입니다!\\n 하나를 선택해주세요:\")\n",
    "    for idx, row in top_dongs.iterrows():\n",
    "        print(f\"{idx + 1}. {row['dong_name']} - 주거비 순위: {row['rank_rent']}\")\n",
    "    \n",
    "    choice = int(input(\"번호로 골라주세요! : \"))\n",
    "    selected_dong_id = top_dongs.iloc[choice - 1]['dong_id']\n",
    "    \n",
    "    selected_real_estates = real_estate_df[real_estate_df['dong_id'] == selected_dong_id]\n",
    "    display(selected_real_estates)"
   ]
  },
  {
   "cell_type": "code",
   "execution_count": null,
   "metadata": {},
   "outputs": [],
   "source": [
    "def main():\n",
    "    load_data()\n",
    "    while True:\n",
    "        category = select_category()\n",
    "        if category == 1:\n",
    "            top5 = get_top5_average(['rank_school', 'rank_academy'])\n",
    "        elif category == 2:\n",
    "            top5 = get_top5_average(['rank_traffic_accident', 'rank_crime', 'rank_unhealthy_facility'])\n",
    "        elif category == 3:\n",
    "            top5 = get_top5_average(['rank_park', 'rank_library'])\n",
    "        else:\n",
    "            print(\"다시 골라주세요.\")\n",
    "            continue\n",
    "        \n",
    "        gu_id = select_gu(top5)\n",
    "        preference = select_preference()\n",
    "        \n",
    "        if preference == 1:\n",
    "            show_hospital_info(gu_id)\n",
    "        elif preference == 2:\n",
    "            show_real_estate_info(gu_id)\n",
    "        else:\n",
    "            print(\"다시 골라주세요.\")\n",
    "        \n",
    "        restart = input(\"다시 시작할까요? (1.Yes / 2.No): \")\n",
    "        if restart != '1':\n",
    "            print(\"이용해 주셔서 감사합니다.\")\n",
    "            break"
   ]
  },
  {
   "cell_type": "code",
   "execution_count": null,
   "metadata": {},
   "outputs": [],
   "source": [
    "if __name__ == \"__main__\":\n",
    "    main()"
   ]
  }
 ],
 "metadata": {
  "kernelspec": {
   "display_name": "eda_venv",
   "language": "python",
   "name": "python3"
  },
  "language_info": {
   "codemirror_mode": {
    "name": "ipython",
    "version": 3
   },
   "file_extension": ".py",
   "mimetype": "text/x-python",
   "name": "python",
   "nbconvert_exporter": "python",
   "pygments_lexer": "ipython3",
   "version": "3.10.12"
  }
 },
 "nbformat": 4,
 "nbformat_minor": 2
}
