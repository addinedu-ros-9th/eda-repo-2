{
 "cells": [
  {
   "cell_type": "code",
   "execution_count": null,
   "metadata": {
    "vscode": {
     "languageId": "plaintext"
    }
   },
   "outputs": [],
   "source": [
    "cur.execute(\"\"\"SELECT gu_id, unhealty_id, unhealty_type, unhealty_count FROM unhealthy_facility\"\"\")\n",
    "unhealty_facility_info = cur.fetchall()\n",
    "\n",
    "unhealty_id = []\n",
    "gu_id = []\n",
    "unhealty_type = []\n",
    "unhealty_count = []\n",
    "\n",
    "for info in enumerate(unhealty_facility_info):\n",
    "    gu_id.append(info[1][0])\n",
    "    unhealty_id.append(info[1][1])\n",
    "    unhealty_type.append(info[1][2])\n",
    "    unhealty_count.append(info[1][3])\n",
    "\n",
    "unhealthy_facility = pd.DataFrame({'구 id':gu_id,\n",
    "                                   '유흥시설 id': unhealty_id,\n",
    "                       '유흥업소 업명':unhealty_type,\n",
    "                       '유흥업소 개수':unhealty_count})"
   ]
  },
  {
   "cell_type": "code",
   "execution_count": null,
   "metadata": {
    "vscode": {
     "languageId": "plaintext"
    }
   },
   "outputs": [],
   "source": [
    "cur.execute(\"\"\"SELECT gu_id, accident_id, accident_count FROM traffic_accident\"\"\")\n",
    "traffic_accident_info = cur.fetchall()\n",
    "\n",
    "accident_id = []\n",
    "gu_id = []\n",
    "accident_count = []\n",
    "\n",
    "for info in enumerate(traffic_accident_info):\n",
    "    gu_id.append(info[1][0])\n",
    "    accident_id.append(info[1][1])\n",
    "    accident_count.append(info[1][2])\n",
    "\n",
    "traffic_accident = pd.DataFrame({'구 id':gu_id,\n",
    "                                   '교통사고 id': accident_id,\n",
    "                                    '교통사고 횟수':accident_count,})"
   ]
  },
  {
   "cell_type": "markdown",
   "metadata": {},
   "source": [
    "자치구 별 유흥시설, 교통사고, 범죄 현황 데이터 불러오기"
   ]
  }
 ],
 "metadata": {
  "language_info": {
   "name": "python"
  }
 },
 "nbformat": 4,
 "nbformat_minor": 2
}
