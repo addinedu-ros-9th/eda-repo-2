{
 "cells": [
  {
   "cell_type": "markdown",
   "metadata": {},
   "source": [
    "# 서울시에서 아이 키우기 가장 좋은 자치구"
   ]
  },
  {
   "cell_type": "code",
   "execution_count": 8,
   "metadata": {},
   "outputs": [],
   "source": [
    "import mysql.connector\n",
    "import pandas as pd"
   ]
  },
  {
   "cell_type": "code",
   "execution_count": 2,
   "metadata": {},
   "outputs": [],
   "source": [
    "conn = mysql.connector.connect(\n",
    "    host = 'database-1.cbwuowec22t2.ap-northeast-2.rds.amazonaws.com',\n",
    "    port = 3306,\n",
    "    user = 'team2',\n",
    "    password = \"1234\",\n",
    "    database = 'eda_project' \n",
    ")\n",
    "\n",
    "cur = conn.cursor(buffered=True)"
   ]
  },
  {
   "cell_type": "markdown",
   "metadata": {},
   "source": [
    "### 구 정보 불러오기"
   ]
  },
  {
   "cell_type": "code",
   "execution_count": null,
   "metadata": {},
   "outputs": [
    {
     "data": {
      "text/html": [
       "<div>\n",
       "<style scoped>\n",
       "    .dataframe tbody tr th:only-of-type {\n",
       "        vertical-align: middle;\n",
       "    }\n",
       "\n",
       "    .dataframe tbody tr th {\n",
       "        vertical-align: top;\n",
       "    }\n",
       "\n",
       "    .dataframe thead th {\n",
       "        text-align: right;\n",
       "    }\n",
       "</style>\n",
       "<table border=\"1\" class=\"dataframe\">\n",
       "  <thead>\n",
       "    <tr style=\"text-align: right;\">\n",
       "      <th></th>\n",
       "      <th>구 이름</th>\n",
       "      <th>구 코드</th>\n",
       "    </tr>\n",
       "  </thead>\n",
       "  <tbody>\n",
       "    <tr>\n",
       "      <th>0</th>\n",
       "      <td>종로구</td>\n",
       "      <td>11110</td>\n",
       "    </tr>\n",
       "    <tr>\n",
       "      <th>1</th>\n",
       "      <td>중구</td>\n",
       "      <td>11140</td>\n",
       "    </tr>\n",
       "    <tr>\n",
       "      <th>2</th>\n",
       "      <td>용산구</td>\n",
       "      <td>11170</td>\n",
       "    </tr>\n",
       "    <tr>\n",
       "      <th>3</th>\n",
       "      <td>성동구</td>\n",
       "      <td>11200</td>\n",
       "    </tr>\n",
       "    <tr>\n",
       "      <th>4</th>\n",
       "      <td>광진구</td>\n",
       "      <td>11215</td>\n",
       "    </tr>\n",
       "  </tbody>\n",
       "</table>\n",
       "</div>"
      ],
      "text/plain": [
       "  구 이름   구 코드\n",
       "0  종로구  11110\n",
       "1   중구  11140\n",
       "2  용산구  11170\n",
       "3  성동구  11200\n",
       "4  광진구  11215"
      ]
     },
     "execution_count": 19,
     "metadata": {},
     "output_type": "execute_result"
    }
   ],
   "source": [
    "cur.execute('SELECT gu_name, gu_code FROM gu')\n",
    "gu_info = cur.fetchall()\n",
    "\n",
    "gu_name = []\n",
    "gu_code = []\n",
    "\n",
    "for info in enumerate(gu_info):\n",
    "    gu_name.append(info[1][0])\n",
    "    gu_code.append(info[1][1])\n",
    "\n",
    "gu = pd.DataFrame({'구 이름':gu_name,\n",
    "                     '구 코드':gu_code})\n",
    "gu.head()"
   ]
  },
  {
   "cell_type": "markdown",
   "metadata": {},
   "source": [
    "### 학교, 학원, 독서실, 도서관 정보 불러오기"
   ]
  },
  {
   "cell_type": "markdown",
   "metadata": {},
   "source": [
    "#### 학교 정보"
   ]
  },
  {
   "cell_type": "code",
   "execution_count": null,
   "metadata": {},
   "outputs": [],
   "source": [
    "cur.execute('SELECT school_id,school_type, school_count FROM school')\n",
    "school_info = cur.fetchall()\n",
    "\n",
    "school_id = []\n",
    "school_type = []\n",
    "school_count = []\n",
    "\n",
    "for info in enumerate(school_info):\n",
    "    school_id.append(info[1][0])\n",
    "    school_type.append(info[1][1])\n",
    "    school_count.append(info[1][2])\n",
    "\n",
    "school = pd.DataFrame({'학교 id':school_id,\n",
    "                       '학교 유형':school_type,\n",
    "                       '학교 수':school_count})\n",
    "school.head()\n"
   ]
  },
  {
   "cell_type": "markdown",
   "metadata": {},
   "source": [
    "#### 학원 정보"
   ]
  },
  {
   "cell_type": "code",
   "execution_count": null,
   "metadata": {},
   "outputs": [],
   "source": [
    "cur.execute('SELECT academy_id,academy_type, academy_count FROM academy')\n",
    "academy_info = cur.fetchall()\n",
    "\n",
    "academy_id = []\n",
    "academy_type = []\n",
    "academy_count = []\n",
    "\n",
    "for info in enumerate(academy_info):\n",
    "    academy_id.append(info[1][0])\n",
    "    academy_type.append(info[1][1])\n",
    "    academy_count.append(info[1][2])\n",
    "\n",
    "academy = pd.DataFrame({'학원 id':academy_id,\n",
    "                       '학원 유형':academy_type,\n",
    "                       '학원 수':academy_count})\n",
    "academy.head()"
   ]
  },
  {
   "cell_type": "code",
   "execution_count": null,
   "metadata": {},
   "outputs": [],
   "source": [
    "conn.commit()"
   ]
  },
  {
   "cell_type": "code",
   "execution_count": null,
   "metadata": {},
   "outputs": [],
   "source": [
    "conn.close()"
   ]
  }
 ],
 "metadata": {
  "kernelspec": {
   "display_name": "eda_venv",
   "language": "python",
   "name": "python3"
  },
  "language_info": {
   "codemirror_mode": {
    "name": "ipython",
    "version": 3
   },
   "file_extension": ".py",
   "mimetype": "text/x-python",
   "name": "python",
   "nbconvert_exporter": "python",
   "pygments_lexer": "ipython3",
   "version": "3.10.12"
  }
 },
 "nbformat": 4,
 "nbformat_minor": 2
}
