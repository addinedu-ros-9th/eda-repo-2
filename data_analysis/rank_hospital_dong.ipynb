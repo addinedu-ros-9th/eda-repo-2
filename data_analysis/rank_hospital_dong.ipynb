{
 "cells": [
  {
   "cell_type": "markdown",
   "metadata": {},
   "source": [
    "query = \"\"\"\n",
    "    SELECT g.gu_name, d.dong_name, count\n",
    "    FROM gu g, dong d, hospital h\n",
    "    WHERE (g.gu_id = d.gu_id AND d.dong_id = h.dong_id)\n",
    "    AND h.hospital_name LIKE '%소아%'\n",
    "    GROUP BY d.dong_name\n",
    "\"\"\"\n",
    "\n",
    "\n",
    "df = pd.read_sql(query, conn)\n",
    "\n",
    "df"
   ]
  }
 ],
 "metadata": {
  "language_info": {
   "name": "python"
  }
 },
 "nbformat": 4,
 "nbformat_minor": 2
}
