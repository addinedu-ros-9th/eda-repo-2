{
 "cells": [
  {
   "cell_type": "code",
   "execution_count": 1,
   "metadata": {},
   "outputs": [],
   "source": [
    "import pandas as pd\n",
    "from pandas import read_csv\n",
    "from pandas import read_excel\n",
    "import numpy as np\n",
    "import matplotlib.pyplot as plt"
   ]
  },
  {
   "cell_type": "code",
   "execution_count": 3,
   "metadata": {},
   "outputs": [
    {
     "data": {
      "application/vnd.microsoft.datawrangler.viewer.v0+json": {
       "columns": [
        {
         "name": "index",
         "rawType": "int64",
         "type": "integer"
        },
        {
         "name": "의료기관명",
         "rawType": "object",
         "type": "string"
        },
        {
         "name": "기관코드명",
         "rawType": "object",
         "type": "string"
        },
        {
         "name": "시군구코드명",
         "rawType": "object",
         "type": "string"
        },
        {
         "name": "읍면동",
         "rawType": "object",
         "type": "unknown"
        },
        {
         "name": "주소",
         "rawType": "object",
         "type": "string"
        }
       ],
       "conversionMethod": "pd.DataFrame",
       "ref": "36a7d6a8-24f4-4283-a01b-f4a9870d4e6f",
       "rows": [
        [
         "0",
         "강북삼성병원",
         "상급종합",
         "종로구",
         "평동",
         "서울특별시 종로구 새문안로 29, (평동)"
        ],
        [
         "1",
         "건국대학교병원",
         "상급종합",
         "광진구",
         "화양동",
         "서울특별시 광진구 능동로 120-1, (화양동)"
        ],
        [
         "2",
         "경희대학교병원",
         "상급종합",
         "동대문구",
         "회기동",
         "서울특별시 동대문구 경희대로 23, (회기동)"
        ],
        [
         "3",
         "고려대학교의과대학부속구로병원",
         "상급종합",
         "구로구",
         "구로동",
         "서울특별시 구로구 구로동로 148, 고려대부속구로병원 (구로동)"
        ],
        [
         "4",
         "삼성서울병원",
         "상급종합",
         "강남구",
         "일원동",
         "서울특별시 강남구 일원로 81, (일원동, 삼성의료원)"
        ],
        [
         "5",
         "서울대학교병원",
         "상급종합",
         "종로구",
         "연건동",
         "서울특별시 종로구 대학로 101, (연건동)"
        ],
        [
         "6",
         "연세대학교의과대학 강남세브란스병원",
         "상급종합",
         "강남구",
         "도곡동",
         "서울특별시 강남구 언주로 211, 강남세브란스병원 (도곡동)"
        ],
        [
         "7",
         "연세대학교의과대학세브란스병원",
         "상급종합",
         "서대문구",
         "신촌동",
         "서울특별시 서대문구 연세로 50-1, (신촌동)"
        ],
        [
         "8",
         "이화여자대학교의과대학부속목동병원",
         "상급종합",
         "양천구",
         "목동",
         "서울특별시 양천구 안양천로 1071, (목동)"
        ],
        [
         "9",
         "재단법인아산사회복지재단 서울아산병원",
         "상급종합",
         "송파구",
         "풍납동",
         "서울특별시 송파구 올림픽로43길 88, 서울아산병원 (풍납동)"
        ],
        [
         "10",
         "중앙대학교병원",
         "상급종합",
         "동작구",
         "흑석동",
         "서울특별시 동작구 흑석로 102, (흑석동)"
        ],
        [
         "11",
         "학교법인 고려중앙학원 고려대학교의과대학부속병원(안암병원)",
         "상급종합",
         "성북구",
         "안암동5가",
         "서울특별시 성북구 고려대로 73, 고려대병원 (안암동5가)"
        ],
        [
         "12",
         "학교법인가톨릭학원가톨릭대학교서울성모병원",
         "상급종합",
         "서초구",
         "반포동",
         "서울특별시 서초구 반포대로 222, (반포동)"
        ],
        [
         "13",
         "한양대학교병원",
         "상급종합",
         "성동구",
         "사근동",
         "서울특별시 성동구 왕십리로 222-1, (사근동)"
        ],
        [
         "14",
         "가톨릭대학교 여의도성모병원",
         "종합병원",
         "영등포구",
         "여의도동",
         "서울특별시 영등포구 63로 10, 여의도성모병원 (여의도동)"
        ],
        [
         "15",
         "가톨릭대학교 은평성모병원",
         "종합병원",
         "은평구",
         "진관동",
         "서울특별시 은평구 통일로 1021, (진관동)"
        ],
        [
         "16",
         "강남베드로병원",
         "종합병원",
         "강남구",
         "도곡동",
         "서울특별시 강남구 남부순환로 2649, 베드로병원 (도곡동)"
        ],
        [
         "17",
         "강동경희대학교의대병원",
         "종합병원",
         "강동구",
         "상일동",
         "서울특별시 강동구 동남로 892, (상일동)"
        ],
        [
         "18",
         "경찰병원",
         "종합병원",
         "송파구",
         "가락동",
         "서울특별시 송파구 송이로 123, 국립경찰병원 (가락동)"
        ],
        [
         "19",
         "구로성심병원",
         "종합병원",
         "구로구",
         "고척동",
         "서울특별시 구로구 경인로 427, 구로성심병원 (고척동)"
        ],
        [
         "20",
         "국립중앙의료원",
         "종합병원",
         "중구",
         "을지로6가",
         "서울특별시 중구 을지로 245, 국립중앙의료원 (을지로6가)"
        ],
        [
         "21",
         "기쁨병원",
         "종합병원",
         "서초구",
         "서초동",
         "서울특별시 서초구 서초중앙로 4, 기쁨병원 (서초동)"
        ],
        [
         "22",
         "노원을지대학교병원",
         "종합병원",
         "노원구",
         "하계동",
         "서울특별시 노원구 한글비석로 68, 을지병원 (하계동)"
        ],
        [
         "23",
         "녹색병원",
         "종합병원",
         "중랑구",
         "면목동",
         "서울특별시 중랑구 사가정로49길 53, (면목동)"
        ],
        [
         "24",
         "대림성모병원",
         "종합병원",
         "영등포구",
         "대림동",
         "서울특별시 영등포구 시흥대로 657, (대림동, 대림성모병원)"
        ],
        [
         "25",
         "명지성모병원",
         "종합병원",
         "영등포구",
         "대림동",
         "서울특별시 영등포구 도림로 156, 명지성모병원 (대림동)"
        ],
        [
         "26",
         "미즈메디병원",
         "종합병원",
         "강서구",
         "내발산동",
         "서울특별시 강서구 강서로 295, (내발산동)"
        ],
        [
         "27",
         "부민병원",
         "종합병원",
         "강서구",
         "등촌동",
         "서울특별시 강서구 공항대로 389, 부민병원 (등촌동)"
        ],
        [
         "28",
         "삼육서울병원",
         "종합병원",
         "동대문구",
         "휘경동",
         "서울특별시 동대문구 망우로 82, (휘경동)"
        ],
        [
         "29",
         "서울성심병원",
         "종합병원",
         "동대문구",
         "청량리동",
         "서울특별시 동대문구 왕산로 259, 서울성심병원 (청량리동)"
        ],
        [
         "30",
         "서울적십자병원",
         "종합병원",
         "종로구",
         "평동",
         "서울특별시 종로구 새문안로 9, 적십자병원 (평동)"
        ],
        [
         "31",
         "서울특별시 동부병원",
         "종합병원",
         "동대문구",
         "용두동",
         "서울특별시 동대문구 무학로 124, (용두동)"
        ],
        [
         "32",
         "서울특별시보라매병원",
         "종합병원",
         "동작구",
         "신대방동",
         "서울특별시 동작구 보라매로5길 20, (신대방동)"
        ],
        [
         "33",
         "서울특별시서남병원",
         "종합병원",
         "양천구",
         "신정동",
         "서울특별시 양천구 신정이펜1로 20, (신정동)"
        ],
        [
         "34",
         "서울특별시서울의료원",
         "종합병원",
         "중랑구",
         "신내동",
         "서울특별시 중랑구 신내로 156, (신내동)"
        ],
        [
         "35",
         "성심의료재단강동성심병원",
         "종합병원",
         "강동구",
         "길동",
         "서울특별시 강동구 성안로 150, (길동)"
        ],
        [
         "36",
         "성애의료재단 성애병원",
         "종합병원",
         "영등포구",
         "신길동",
         "서울특별시 영등포구 여의대방로53길 22, (신길동, 성애병원)"
        ],
        [
         "37",
         "세란병원",
         "종합병원",
         "종로구",
         "무악동",
         "서울특별시 종로구 통일로 256, (무악동)"
        ],
        [
         "38",
         "순천향대학교 부속 서울병원",
         "종합병원",
         "용산구",
         "한남동",
         "서울특별시 용산구 대사관로 59, (한남동)"
        ],
        [
         "39",
         "씨엠병원",
         "종합병원",
         "영등포구",
         "영등포동4가",
         "서울특별시 영등포구 영등포로36길 13, (영등포동4가, 충무병원)"
        ],
        [
         "40",
         "우리들병원",
         "종합병원",
         "강서구",
         "과해동",
         "서울특별시 강서구 하늘길 70, (과해동)"
        ],
        [
         "41",
         "의료법인 청구성심병원",
         "종합병원",
         "은평구",
         "갈현동",
         "서울특별시 은평구 통일로 873, (갈현동)"
        ],
        [
         "42",
         "의료법인동신의료재단 동신병원",
         "종합병원",
         "서대문구",
         "홍은동",
         "서울특별시 서대문구 연희로 272, 동신병원 본관동 (홍은동)"
        ],
        [
         "43",
         "의료법인서울효천의료재단 에이치플러스양지병원",
         "종합병원",
         "관악구",
         "신림동",
         "서울특별시 관악구 남부순환로 1636, 양지병원 (신림동)"
        ],
        [
         "44",
         "의료법인성화의료재단  대한병원",
         "종합병원",
         "강북구",
         "수유동",
         "서울특별시 강북구 도봉로 301, (수유동, 대한병원)"
        ],
        [
         "45",
         "의료법인풍산의료재단동부제일병원",
         "종합병원",
         "중랑구",
         "망우동",
         "서울특별시 중랑구 망우로 511, 동부제일병원 지하1~6층 (망우동)"
        ],
        [
         "46",
         "의료법인한전의료재단 한일병원",
         "종합병원",
         "도봉구",
         "쌍문동",
         "서울특별시 도봉구 우이천로 308, 한일병원 (쌍문동)"
        ],
        [
         "47",
         "이화여자대학교의과대학부속서울병원",
         "종합병원",
         "강서구",
         "마곡동",
         "서울특별시 강서구 공항대로 260, 이화의대부속서울병원 (마곡동)"
        ],
        [
         "48",
         "인제대학교 상계백병원",
         "종합병원",
         "노원구",
         "상계동",
         "서울특별시 노원구 동일로 1342, 상계백병원 (상계동)"
        ],
        [
         "49",
         "재단법인베스티안재단베스티안서울병원",
         "종합병원",
         "성동구",
         "하왕십리동",
         "서울특별시 성동구 왕십리로 382, (하왕십리동)"
        ]
       ],
       "shape": {
        "columns": 5,
        "rows": 1002
       }
      },
      "text/html": [
       "<div>\n",
       "<style scoped>\n",
       "    .dataframe tbody tr th:only-of-type {\n",
       "        vertical-align: middle;\n",
       "    }\n",
       "\n",
       "    .dataframe tbody tr th {\n",
       "        vertical-align: top;\n",
       "    }\n",
       "\n",
       "    .dataframe thead th {\n",
       "        text-align: right;\n",
       "    }\n",
       "</style>\n",
       "<table border=\"1\" class=\"dataframe\">\n",
       "  <thead>\n",
       "    <tr style=\"text-align: right;\">\n",
       "      <th></th>\n",
       "      <th>의료기관명</th>\n",
       "      <th>기관코드명</th>\n",
       "      <th>시군구코드명</th>\n",
       "      <th>읍면동</th>\n",
       "      <th>주소</th>\n",
       "    </tr>\n",
       "  </thead>\n",
       "  <tbody>\n",
       "    <tr>\n",
       "      <th>0</th>\n",
       "      <td>강북삼성병원</td>\n",
       "      <td>상급종합</td>\n",
       "      <td>종로구</td>\n",
       "      <td>평동</td>\n",
       "      <td>서울특별시 종로구 새문안로 29, (평동)</td>\n",
       "    </tr>\n",
       "    <tr>\n",
       "      <th>1</th>\n",
       "      <td>건국대학교병원</td>\n",
       "      <td>상급종합</td>\n",
       "      <td>광진구</td>\n",
       "      <td>화양동</td>\n",
       "      <td>서울특별시 광진구 능동로 120-1, (화양동)</td>\n",
       "    </tr>\n",
       "    <tr>\n",
       "      <th>2</th>\n",
       "      <td>경희대학교병원</td>\n",
       "      <td>상급종합</td>\n",
       "      <td>동대문구</td>\n",
       "      <td>회기동</td>\n",
       "      <td>서울특별시 동대문구 경희대로 23, (회기동)</td>\n",
       "    </tr>\n",
       "    <tr>\n",
       "      <th>3</th>\n",
       "      <td>고려대학교의과대학부속구로병원</td>\n",
       "      <td>상급종합</td>\n",
       "      <td>구로구</td>\n",
       "      <td>구로동</td>\n",
       "      <td>서울특별시 구로구 구로동로 148, 고려대부속구로병원 (구로동)</td>\n",
       "    </tr>\n",
       "    <tr>\n",
       "      <th>4</th>\n",
       "      <td>삼성서울병원</td>\n",
       "      <td>상급종합</td>\n",
       "      <td>강남구</td>\n",
       "      <td>일원동</td>\n",
       "      <td>서울특별시 강남구 일원로 81, (일원동, 삼성의료원)</td>\n",
       "    </tr>\n",
       "    <tr>\n",
       "      <th>...</th>\n",
       "      <td>...</td>\n",
       "      <td>...</td>\n",
       "      <td>...</td>\n",
       "      <td>...</td>\n",
       "      <td>...</td>\n",
       "    </tr>\n",
       "    <tr>\n",
       "      <th>997</th>\n",
       "      <td>고운여성산부인과의원</td>\n",
       "      <td>의원</td>\n",
       "      <td>강서구</td>\n",
       "      <td>마곡동</td>\n",
       "      <td>서울특별시 강서구 마곡중앙5로 81, 502.503호 (마곡동, 에스비타운)</td>\n",
       "    </tr>\n",
       "    <tr>\n",
       "      <th>998</th>\n",
       "      <td>고운이비인후과의원</td>\n",
       "      <td>의원</td>\n",
       "      <td>영등포구</td>\n",
       "      <td>영등포동3가</td>\n",
       "      <td>서울특별시 영등포구 영중로 12, 에쉐르아이 시네마 쇼핑몰 2층 (영등포동3가)</td>\n",
       "    </tr>\n",
       "    <tr>\n",
       "      <th>999</th>\n",
       "      <td>고운하지흉부외과의원</td>\n",
       "      <td>의원</td>\n",
       "      <td>강남구</td>\n",
       "      <td>역삼동</td>\n",
       "      <td>서울특별시 강남구 강남대로 408, YBM강남센터 1302호 (역삼동)</td>\n",
       "    </tr>\n",
       "    <tr>\n",
       "      <th>1000</th>\n",
       "      <td>고움의원</td>\n",
       "      <td>의원</td>\n",
       "      <td>노원구</td>\n",
       "      <td>상계동</td>\n",
       "      <td>서울특별시 노원구 노해로 501, 201호,203호 (상계동, 노원빌딩)</td>\n",
       "    </tr>\n",
       "    <tr>\n",
       "      <th>1001</th>\n",
       "      <td>고유성형외과의원</td>\n",
       "      <td>의원</td>\n",
       "      <td>강남구</td>\n",
       "      <td>신사동</td>\n",
       "      <td>서울특별시 강남구 강남대로 624, ICT TOWER, 8층 일부 (신사동)</td>\n",
       "    </tr>\n",
       "  </tbody>\n",
       "</table>\n",
       "<p>1002 rows × 5 columns</p>\n",
       "</div>"
      ],
      "text/plain": [
       "                의료기관명 기관코드명 시군구코드명     읍면동  \\\n",
       "0              강북삼성병원  상급종합    종로구      평동   \n",
       "1             건국대학교병원  상급종합    광진구     화양동   \n",
       "2             경희대학교병원  상급종합   동대문구     회기동   \n",
       "3     고려대학교의과대학부속구로병원  상급종합    구로구     구로동   \n",
       "4              삼성서울병원  상급종합    강남구     일원동   \n",
       "...               ...   ...    ...     ...   \n",
       "997        고운여성산부인과의원    의원    강서구     마곡동   \n",
       "998         고운이비인후과의원    의원   영등포구  영등포동3가   \n",
       "999        고운하지흉부외과의원    의원    강남구     역삼동   \n",
       "1000             고움의원    의원    노원구     상계동   \n",
       "1001         고유성형외과의원    의원    강남구     신사동   \n",
       "\n",
       "                                                주소  \n",
       "0                          서울특별시 종로구 새문안로 29, (평동)  \n",
       "1                       서울특별시 광진구 능동로 120-1, (화양동)  \n",
       "2                        서울특별시 동대문구 경희대로 23, (회기동)  \n",
       "3              서울특별시 구로구 구로동로 148, 고려대부속구로병원 (구로동)  \n",
       "4                   서울특별시 강남구 일원로 81, (일원동, 삼성의료원)  \n",
       "...                                            ...  \n",
       "997     서울특별시 강서구 마곡중앙5로 81, 502.503호 (마곡동, 에스비타운)  \n",
       "998   서울특별시 영등포구 영중로 12, 에쉐르아이 시네마 쇼핑몰 2층 (영등포동3가)  \n",
       "999        서울특별시 강남구 강남대로 408, YBM강남센터 1302호 (역삼동)  \n",
       "1000      서울특별시 노원구 노해로 501, 201호,203호 (상계동, 노원빌딩)  \n",
       "1001    서울특별시 강남구 강남대로 624, ICT TOWER, 8층 일부 (신사동)  \n",
       "\n",
       "[1002 rows x 5 columns]"
      ]
     },
     "execution_count": 3,
     "metadata": {},
     "output_type": "execute_result"
    }
   ],
   "source": [
    "hopitalDF = pd.read_excel(\"/home/lkw/dev_ws/Final project/gu_hospital.xlsx\")\n",
    "hopitalDF.head(1002)"
   ]
  },
  {
   "cell_type": "code",
   "execution_count": 4,
   "metadata": {},
   "outputs": [
    {
     "data": {
      "application/vnd.microsoft.datawrangler.viewer.v0+json": {
       "columns": [
        {
         "name": "index",
         "rawType": "int64",
         "type": "integer"
        },
        {
         "name": "의료기관명",
         "rawType": "object",
         "type": "string"
        },
        {
         "name": "기관코드명",
         "rawType": "object",
         "type": "string"
        },
        {
         "name": "시군구코드명",
         "rawType": "object",
         "type": "string"
        },
        {
         "name": "읍면동",
         "rawType": "object",
         "type": "string"
        },
        {
         "name": "주소",
         "rawType": "object",
         "type": "string"
        }
       ],
       "conversionMethod": "pd.DataFrame",
       "ref": "0f9667e2-2a4c-4a2d-9694-9d2da39abc9a",
       "rows": [
        [
         "1",
         "큰사랑요양병원",
         "요양병원",
         "강남구",
         "개포동",
         "서울특별시 강남구 논현로2길 30, (개포동, 지하2층~1층, 지상1층~6층)"
        ],
        [
         "2",
         "강남성모내과의원",
         "의원",
         "강남구",
         "개포동",
         "서울특별시 강남구 개포로 615, 4층 402-2호 (개포동, 석탑프라자)"
        ],
        [
         "3",
         "강남우리집의원",
         "의원",
         "강남구",
         "개포동",
         "서울특별시 강남구 개포로 229, 정원빌딩 2층 4호 (개포동)"
        ],
        [
         "4",
         "강남퍼스트재활의학과의원",
         "의원",
         "강남구",
         "개포동",
         "서울특별시 강남구 개포로 504, 메트하임 2층(201~202)호 3층 (302~304)호 (개포동)"
        ],
        [
         "5",
         "개포민마취통증의학과의원",
         "의원",
         "강남구",
         "개포동",
         "서울특별시 강남구 개포로 623, 대청타워 234,234-1호 (개포동)"
        ]
       ],
       "shape": {
        "columns": 5,
        "rows": 5
       }
      },
      "text/html": [
       "<div>\n",
       "<style scoped>\n",
       "    .dataframe tbody tr th:only-of-type {\n",
       "        vertical-align: middle;\n",
       "    }\n",
       "\n",
       "    .dataframe tbody tr th {\n",
       "        vertical-align: top;\n",
       "    }\n",
       "\n",
       "    .dataframe thead th {\n",
       "        text-align: right;\n",
       "    }\n",
       "</style>\n",
       "<table border=\"1\" class=\"dataframe\">\n",
       "  <thead>\n",
       "    <tr style=\"text-align: right;\">\n",
       "      <th></th>\n",
       "      <th>의료기관명</th>\n",
       "      <th>기관코드명</th>\n",
       "      <th>시군구코드명</th>\n",
       "      <th>읍면동</th>\n",
       "      <th>주소</th>\n",
       "    </tr>\n",
       "  </thead>\n",
       "  <tbody>\n",
       "    <tr>\n",
       "      <th>1</th>\n",
       "      <td>큰사랑요양병원</td>\n",
       "      <td>요양병원</td>\n",
       "      <td>강남구</td>\n",
       "      <td>개포동</td>\n",
       "      <td>서울특별시 강남구 논현로2길 30, (개포동, 지하2층~1층, 지상1층~6층)</td>\n",
       "    </tr>\n",
       "    <tr>\n",
       "      <th>2</th>\n",
       "      <td>강남성모내과의원</td>\n",
       "      <td>의원</td>\n",
       "      <td>강남구</td>\n",
       "      <td>개포동</td>\n",
       "      <td>서울특별시 강남구 개포로 615, 4층 402-2호 (개포동, 석탑프라자)</td>\n",
       "    </tr>\n",
       "    <tr>\n",
       "      <th>3</th>\n",
       "      <td>강남우리집의원</td>\n",
       "      <td>의원</td>\n",
       "      <td>강남구</td>\n",
       "      <td>개포동</td>\n",
       "      <td>서울특별시 강남구 개포로 229, 정원빌딩 2층 4호 (개포동)</td>\n",
       "    </tr>\n",
       "    <tr>\n",
       "      <th>4</th>\n",
       "      <td>강남퍼스트재활의학과의원</td>\n",
       "      <td>의원</td>\n",
       "      <td>강남구</td>\n",
       "      <td>개포동</td>\n",
       "      <td>서울특별시 강남구 개포로 504, 메트하임 2층(201~202)호 3층 (302~3...</td>\n",
       "    </tr>\n",
       "    <tr>\n",
       "      <th>5</th>\n",
       "      <td>개포민마취통증의학과의원</td>\n",
       "      <td>의원</td>\n",
       "      <td>강남구</td>\n",
       "      <td>개포동</td>\n",
       "      <td>서울특별시 강남구 개포로 623, 대청타워 234,234-1호 (개포동)</td>\n",
       "    </tr>\n",
       "  </tbody>\n",
       "</table>\n",
       "</div>"
      ],
      "text/plain": [
       "          의료기관명 기관코드명 시군구코드명  읍면동  \\\n",
       "1       큰사랑요양병원  요양병원    강남구  개포동   \n",
       "2      강남성모내과의원    의원    강남구  개포동   \n",
       "3       강남우리집의원    의원    강남구  개포동   \n",
       "4  강남퍼스트재활의학과의원    의원    강남구  개포동   \n",
       "5  개포민마취통증의학과의원    의원    강남구  개포동   \n",
       "\n",
       "                                                  주소  \n",
       "1        서울특별시 강남구 논현로2길 30, (개포동, 지하2층~1층, 지상1층~6층)  \n",
       "2          서울특별시 강남구 개포로 615, 4층 402-2호 (개포동, 석탑프라자)  \n",
       "3                서울특별시 강남구 개포로 229, 정원빌딩 2층 4호 (개포동)  \n",
       "4  서울특별시 강남구 개포로 504, 메트하임 2층(201~202)호 3층 (302~3...  \n",
       "5           서울특별시 강남구 개포로 623, 대청타워 234,234-1호 (개포동)  "
      ]
     },
     "execution_count": 4,
     "metadata": {},
     "output_type": "execute_result"
    }
   ],
   "source": [
    "\n",
    "hopitalDF= hopitalDF.sort_values(by=['시군구코드명', '읍면동'], ascending=[True, True])\n",
    "hopitalDF = hopitalDF.reset_index(drop=True)  # 기존 인덱스 제거\n",
    "hopitalDF.index += 1\n",
    "hopitalDF.head()"
   ]
  },
  {
   "cell_type": "code",
   "execution_count": 5,
   "metadata": {},
   "outputs": [],
   "source": [
    "hopitalDF.columns = ['hospital_name', 'hospital_type', 'gu_name', 'dong_name', 'address']\n"
   ]
  },
  {
   "cell_type": "code",
   "execution_count": 28,
   "metadata": {},
   "outputs": [
    {
     "data": {
      "application/vnd.microsoft.datawrangler.viewer.v0+json": {
       "columns": [
        {
         "name": "index",
         "rawType": "int64",
         "type": "integer"
        },
        {
         "name": "hospital_name",
         "rawType": "object",
         "type": "string"
        },
        {
         "name": "hospital_type",
         "rawType": "object",
         "type": "string"
        },
        {
         "name": "gu_name",
         "rawType": "object",
         "type": "string"
        },
        {
         "name": "dong_name",
         "rawType": "object",
         "type": "string"
        },
        {
         "name": "address",
         "rawType": "object",
         "type": "string"
        }
       ],
       "conversionMethod": "pd.DataFrame",
       "ref": "cddb0038-8f81-43cf-a816-ad42d5f54a68",
       "rows": [
        [
         "1",
         "큰사랑요양병원",
         "요양병원",
         "강남구",
         "개포동",
         "서울특별시 강남구 논현로2길 30, (개포동, 지하2층~1층, 지상1층~6층)"
        ],
        [
         "2",
         "강남성모내과의원",
         "의원",
         "강남구",
         "개포동",
         "서울특별시 강남구 개포로 615, 4층 402-2호 (개포동, 석탑프라자)"
        ],
        [
         "3",
         "강남우리집의원",
         "의원",
         "강남구",
         "개포동",
         "서울특별시 강남구 개포로 229, 정원빌딩 2층 4호 (개포동)"
        ],
        [
         "4",
         "강남퍼스트재활의학과의원",
         "의원",
         "강남구",
         "개포동",
         "서울특별시 강남구 개포로 504, 메트하임 2층(201~202)호 3층 (302~304)호 (개포동)"
        ],
        [
         "5",
         "개포민마취통증의학과의원",
         "의원",
         "강남구",
         "개포동",
         "서울특별시 강남구 개포로 623, 대청타워 234,234-1호 (개포동)"
        ]
       ],
       "shape": {
        "columns": 5,
        "rows": 5
       }
      },
      "text/html": [
       "<div>\n",
       "<style scoped>\n",
       "    .dataframe tbody tr th:only-of-type {\n",
       "        vertical-align: middle;\n",
       "    }\n",
       "\n",
       "    .dataframe tbody tr th {\n",
       "        vertical-align: top;\n",
       "    }\n",
       "\n",
       "    .dataframe thead th {\n",
       "        text-align: right;\n",
       "    }\n",
       "</style>\n",
       "<table border=\"1\" class=\"dataframe\">\n",
       "  <thead>\n",
       "    <tr style=\"text-align: right;\">\n",
       "      <th></th>\n",
       "      <th>hospital_name</th>\n",
       "      <th>hospital_type</th>\n",
       "      <th>gu_name</th>\n",
       "      <th>dong_name</th>\n",
       "      <th>address</th>\n",
       "    </tr>\n",
       "  </thead>\n",
       "  <tbody>\n",
       "    <tr>\n",
       "      <th>1</th>\n",
       "      <td>큰사랑요양병원</td>\n",
       "      <td>요양병원</td>\n",
       "      <td>강남구</td>\n",
       "      <td>개포동</td>\n",
       "      <td>서울특별시 강남구 논현로2길 30, (개포동, 지하2층~1층, 지상1층~6층)</td>\n",
       "    </tr>\n",
       "    <tr>\n",
       "      <th>2</th>\n",
       "      <td>강남성모내과의원</td>\n",
       "      <td>의원</td>\n",
       "      <td>강남구</td>\n",
       "      <td>개포동</td>\n",
       "      <td>서울특별시 강남구 개포로 615, 4층 402-2호 (개포동, 석탑프라자)</td>\n",
       "    </tr>\n",
       "    <tr>\n",
       "      <th>3</th>\n",
       "      <td>강남우리집의원</td>\n",
       "      <td>의원</td>\n",
       "      <td>강남구</td>\n",
       "      <td>개포동</td>\n",
       "      <td>서울특별시 강남구 개포로 229, 정원빌딩 2층 4호 (개포동)</td>\n",
       "    </tr>\n",
       "    <tr>\n",
       "      <th>4</th>\n",
       "      <td>강남퍼스트재활의학과의원</td>\n",
       "      <td>의원</td>\n",
       "      <td>강남구</td>\n",
       "      <td>개포동</td>\n",
       "      <td>서울특별시 강남구 개포로 504, 메트하임 2층(201~202)호 3층 (302~3...</td>\n",
       "    </tr>\n",
       "    <tr>\n",
       "      <th>5</th>\n",
       "      <td>개포민마취통증의학과의원</td>\n",
       "      <td>의원</td>\n",
       "      <td>강남구</td>\n",
       "      <td>개포동</td>\n",
       "      <td>서울특별시 강남구 개포로 623, 대청타워 234,234-1호 (개포동)</td>\n",
       "    </tr>\n",
       "  </tbody>\n",
       "</table>\n",
       "</div>"
      ],
      "text/plain": [
       "  hospital_name hospital_type gu_name dong_name  \\\n",
       "1       큰사랑요양병원          요양병원     강남구       개포동   \n",
       "2      강남성모내과의원            의원     강남구       개포동   \n",
       "3       강남우리집의원            의원     강남구       개포동   \n",
       "4  강남퍼스트재활의학과의원            의원     강남구       개포동   \n",
       "5  개포민마취통증의학과의원            의원     강남구       개포동   \n",
       "\n",
       "                                             address  \n",
       "1        서울특별시 강남구 논현로2길 30, (개포동, 지하2층~1층, 지상1층~6층)  \n",
       "2          서울특별시 강남구 개포로 615, 4층 402-2호 (개포동, 석탑프라자)  \n",
       "3                서울특별시 강남구 개포로 229, 정원빌딩 2층 4호 (개포동)  \n",
       "4  서울특별시 강남구 개포로 504, 메트하임 2층(201~202)호 3층 (302~3...  \n",
       "5           서울특별시 강남구 개포로 623, 대청타워 234,234-1호 (개포동)  "
      ]
     },
     "execution_count": 28,
     "metadata": {},
     "output_type": "execute_result"
    }
   ],
   "source": [
    "hopitalDF.head()"
   ]
  },
  {
   "cell_type": "code",
   "execution_count": null,
   "metadata": {},
   "outputs": [
    {
     "name": "stdout",
     "output_type": "stream",
     "text": [
      "      address\n",
      "1         논현로\n",
      "2         개포로\n",
      "3         개포로\n",
      "4         개포로\n",
      "5         개포로\n",
      "...       ...\n",
      "19273    봉화산로\n",
      "19274    중랑역로\n",
      "19275     동일로\n",
      "19276    봉화산로\n",
      "19277     동일로\n",
      "\n",
      "[19277 rows x 1 columns]\n"
     ]
    }
   ],
   "source": [
    "# hopitalDF['address'] = hopitalDF['address'].str.extract(r'(\\S+로)')\n",
    "\n",
    "# # 결과 출력\n",
    "# print(hopitalDF[['address']])"
   ]
  },
  {
   "cell_type": "code",
   "execution_count": 26,
   "metadata": {},
   "outputs": [],
   "source": [
    "conn.close()"
   ]
  },
  {
   "cell_type": "code",
   "execution_count": 27,
   "metadata": {},
   "outputs": [],
   "source": [
    "import mysql.connector\n",
    "\n",
    "conn = mysql.connector.connect(\n",
    "    host = \"database-1.cbwuowec22t2.ap-northeast-2.rds.amazonaws.com\",\n",
    "    port = 3306,\n",
    "    user = \"team2\",\n",
    "    password = \"1234\",\n",
    "    database = \"eda_project\"\n",
    ")"
   ]
  },
  {
   "cell_type": "code",
   "execution_count": 28,
   "metadata": {},
   "outputs": [],
   "source": [
    "cur = conn.cursor(buffered=True)"
   ]
  },
  {
   "cell_type": "code",
   "execution_count": 8,
   "metadata": {},
   "outputs": [],
   "source": [
    "hopital_list = [(row['hospital_name'], row['hospital_type'], row['gu_name'], row['dong_name'],row['address']) for _, row in hopitalDF.iterrows()]"
   ]
  },
  {
   "cell_type": "code",
   "execution_count": 37,
   "metadata": {},
   "outputs": [
    {
     "data": {
      "text/plain": [
       "hospital_name                                   나를의원\n",
       "hospital_type                                     의원\n",
       "gu_name                                          강남구\n",
       "dong_name                                        신사동\n",
       "address          서울특별시 강남구 도산대로13길 18, 약산빌딩 4층 (신사동)\n",
       "Name: 1382, dtype: object"
      ]
     },
     "execution_count": 37,
     "metadata": {},
     "output_type": "execute_result"
    }
   ],
   "source": [
    "hopitalDF.iloc[1381]"
   ]
  },
  {
   "cell_type": "code",
   "execution_count": null,
   "metadata": {},
   "outputs": [],
   "source": [
    "def insert_hospital(hospital_name, hospital_type, gu_name, dong_name, address):\n",
    "    # 구 ID 가져오기\n",
    "    cur.execute('SELECT gu_id FROM gu WHERE gu_name = %s', (gu_name,))\n",
    "    gu_id = cur.fetchone()[0]\n",
    "\n",
    "    #동 ID 가져오기\n",
    "    cur.execute('SELECT dong_id FROM dong WHERE dong_name = %s', (dong_name,))\n",
    "    dong_id = cur.fetchone()[0]\n",
    "\n",
    "\n",
    "    doro_name = address.split(\" \")[2]\n",
    "    #도로 ID 가져오기\n",
    "    cur.execute('SELECT doro_id FROM doro WHERE doro_name = %s', (address.split(\" \")[2],))\n",
    "    # doro_id = cur.fetchone()[0]\n",
    "    doro_result = cur.fetchone()\n",
    "    \n",
    "    if doro_result is None:\n",
    "        print(f\"도로명 {doro_name}이(가) 데이터베이스에 없습니다.\")\n",
    "    else:    \n",
    "        doro_id = doro_result[0]\n",
    "    \n",
    "  \n",
    "\n",
    "\n",
    "\n",
    "\n",
    "    cur.execute(\n",
    "            'INSERT INTO hospital (hospital_type, hospital_name, hospital_address, gu_id, doro_id, dong_id) '\n",
    "            'VALUES (%s, %s, %s, %s, %s, %s)', \n",
    "            (hospital_type, hospital_name, address, gu_id, doro_id, dong_id))\n",
    "    \n",
    "    conn.commit()"
   ]
  },
  {
   "cell_type": "code",
   "execution_count": 34,
   "metadata": {},
   "outputs": [
    {
     "name": "stdout",
     "output_type": "stream",
     "text": [
      "도로명 도산대로13길이(가) 데이터베이스에 없습니다.\n",
      "도로명 압구정로12길이(가) 데이터베이스에 없습니다.\n",
      "도로명 도산대로13길이(가) 데이터베이스에 없습니다.\n",
      "도로명 압구정로12길이(가) 데이터베이스에 없습니다.\n",
      "도로명 압구정로12길이(가) 데이터베이스에 없습니다.\n",
      "도로명 압구정로12길이(가) 데이터베이스에 없습니다.\n",
      "도로명 압구정로12길이(가) 데이터베이스에 없습니다.\n",
      "도로명 도산대로13길이(가) 데이터베이스에 없습니다.\n",
      "도로명 도산대로13길이(가) 데이터베이스에 없습니다.\n",
      "도로명 이(가) 데이터베이스에 없습니다.\n",
      "도로명 이(가) 데이터베이스에 없습니다.\n",
      "도로명 이(가) 데이터베이스에 없습니다.\n",
      "도로명 이(가) 데이터베이스에 없습니다.\n",
      "도로명 이(가) 데이터베이스에 없습니다.\n",
      "도로명 이(가) 데이터베이스에 없습니다.\n",
      "도로명 이(가) 데이터베이스에 없습니다.\n",
      "도로명 이(가) 데이터베이스에 없습니다.\n",
      "도로명 이(가) 데이터베이스에 없습니다.\n",
      "도로명 이(가) 데이터베이스에 없습니다.\n",
      "도로명 이(가) 데이터베이스에 없습니다.\n",
      "도로명 이(가) 데이터베이스에 없습니다.\n",
      "도로명 이(가) 데이터베이스에 없습니다.\n",
      "도로명 이(가) 데이터베이스에 없습니다.\n",
      "도로명 이(가) 데이터베이스에 없습니다.\n",
      "도로명 이(가) 데이터베이스에 없습니다.\n",
      "도로명 이(가) 데이터베이스에 없습니다.\n"
     ]
    },
    {
     "ename": "TypeError",
     "evalue": "'NoneType' object is not subscriptable",
     "output_type": "error",
     "traceback": [
      "\u001b[0;31m---------------------------------------------------------------------------\u001b[0m",
      "\u001b[0;31mTypeError\u001b[0m                                 Traceback (most recent call last)",
      "Cell \u001b[0;32mIn[34], line 2\u001b[0m\n\u001b[1;32m      1\u001b[0m \u001b[38;5;28;01mfor\u001b[39;00m hospital_name, hospital_type, gu_name, dong_name, address \u001b[38;5;129;01min\u001b[39;00m hopital_list:\n\u001b[0;32m----> 2\u001b[0m     \u001b[43minsert_hospital\u001b[49m\u001b[43m(\u001b[49m\u001b[43mhospital_name\u001b[49m\u001b[43m,\u001b[49m\u001b[43m \u001b[49m\u001b[43mhospital_type\u001b[49m\u001b[43m,\u001b[49m\u001b[43m \u001b[49m\u001b[43mgu_name\u001b[49m\u001b[43m,\u001b[49m\u001b[43m \u001b[49m\u001b[43mdong_name\u001b[49m\u001b[43m,\u001b[49m\u001b[43m \u001b[49m\u001b[43maddress\u001b[49m\u001b[43m)\u001b[49m\n",
      "Cell \u001b[0;32mIn[33], line 8\u001b[0m, in \u001b[0;36minsert_hospital\u001b[0;34m(hospital_name, hospital_type, gu_name, dong_name, address)\u001b[0m\n\u001b[1;32m      6\u001b[0m \u001b[38;5;66;03m#동 ID 가져오기\u001b[39;00m\n\u001b[1;32m      7\u001b[0m cur\u001b[38;5;241m.\u001b[39mexecute(\u001b[38;5;124m'\u001b[39m\u001b[38;5;124mSELECT dong_id FROM dong WHERE dong_name = \u001b[39m\u001b[38;5;132;01m%s\u001b[39;00m\u001b[38;5;124m'\u001b[39m, (dong_name,))\n\u001b[0;32m----> 8\u001b[0m dong_id \u001b[38;5;241m=\u001b[39m \u001b[43mcur\u001b[49m\u001b[38;5;241;43m.\u001b[39;49m\u001b[43mfetchone\u001b[49m\u001b[43m(\u001b[49m\u001b[43m)\u001b[49m\u001b[43m[\u001b[49m\u001b[38;5;241;43m0\u001b[39;49m\u001b[43m]\u001b[49m\n\u001b[1;32m     11\u001b[0m doro_name \u001b[38;5;241m=\u001b[39m address\u001b[38;5;241m.\u001b[39msplit(\u001b[38;5;124m\"\u001b[39m\u001b[38;5;124m \u001b[39m\u001b[38;5;124m\"\u001b[39m)[\u001b[38;5;241m2\u001b[39m]\n\u001b[1;32m     12\u001b[0m \u001b[38;5;66;03m#도로 ID 가져오기\u001b[39;00m\n",
      "\u001b[0;31mTypeError\u001b[0m: 'NoneType' object is not subscriptable"
     ]
    }
   ],
   "source": [
    "for hospital_name, hospital_type, gu_name, dong_name, address in hopital_list:\n",
    "    insert_hospital(hospital_name, hospital_type, gu_name, dong_name, address)"
   ]
  },
  {
   "cell_type": "code",
   "execution_count": null,
   "metadata": {},
   "outputs": [],
   "source": []
  }
 ],
 "metadata": {
  "kernelspec": {
   "display_name": "eda_venv",
   "language": "python",
   "name": "python3"
  },
  "language_info": {
   "codemirror_mode": {
    "name": "ipython",
    "version": 3
   },
   "file_extension": ".py",
   "mimetype": "text/x-python",
   "name": "python",
   "nbconvert_exporter": "python",
   "pygments_lexer": "ipython3",
   "version": "3.10.12"
  }
 },
 "nbformat": 4,
 "nbformat_minor": 2
}
