{
 "cells": [
  {
   "cell_type": "markdown",
   "metadata": {},
   "source": [
    "# 자치구 별 교육 기관 데이터"
   ]
  },
  {
   "cell_type": "code",
   "execution_count": null,
   "metadata": {},
   "outputs": [],
   "source": [
    "import pandas as pd\n",
    "import mysql.connector"
   ]
  },
  {
   "cell_type": "markdown",
   "metadata": {},
   "source": [
    "## 어린이집"
   ]
  },
  {
   "cell_type": "code",
   "execution_count": null,
   "metadata": {},
   "outputs": [],
   "source": [
    "daycare_center = pd.read_csv('/home/lee/dev_ws/projects/project01/data/어린이집.csv', encoding='euc-kr')\n",
    "daycare_center.head()\n",
    "\n",
    "daycare_center = daycare_center.iloc[0:25]\n",
    "daycare_center = daycare_center[['자치구명', '시설수합계']]\n",
    "daycare_center.rename(columns={'자치구명':'자치구',\n",
    "                                        '시설수합계':'계'}, inplace=True)"
   ]
  },
  {
   "cell_type": "code",
   "execution_count": null,
   "metadata": {},
   "outputs": [],
   "source": [
    "daycare_center.reset_index()\n",
    "\n",
    "daycare_center['타입'] = '어린이집'\n",
    "\n",
    "for idx, gu in enumerate(daycare_center['자치구']):\n",
    "    daycare_center['자치구'][idx] = gu + '구'"
   ]
  },
  {
   "cell_type": "markdown",
   "metadata": {},
   "source": [
    "### 결과 daycare_center"
   ]
  },
  {
   "cell_type": "code",
   "execution_count": null,
   "metadata": {},
   "outputs": [],
   "source": [
    "daycare_center.head()"
   ]
  },
  {
   "cell_type": "markdown",
   "metadata": {},
   "source": [
    "## 유치원"
   ]
  },
  {
   "cell_type": "code",
   "execution_count": null,
   "metadata": {},
   "outputs": [],
   "source": [
    "preschool = pd.read_csv('/home/lee/dev_ws/projects/project01/data/유치원.csv', header=2,encoding='utf-8')\n",
    "\n",
    "preschool = preschool[['자치구별(2)','소계']]\n",
    "preschool.rename(columns={'자치구별(2)':'자치구', '소계':'계'}, inplace=True)\n",
    "preschool = preschool[preschool['자치구']!='소계']"
   ]
  },
  {
   "cell_type": "code",
   "execution_count": null,
   "metadata": {},
   "outputs": [],
   "source": [
    "preschool = preschool.set_index('자치구')\n",
    "preschool = preschool.reset_index()\n",
    "preschool['타입'] = '유치원'"
   ]
  },
  {
   "cell_type": "markdown",
   "metadata": {},
   "source": [
    "### 결과 preschool"
   ]
  },
  {
   "cell_type": "code",
   "execution_count": null,
   "metadata": {},
   "outputs": [],
   "source": [
    "preschool.head()"
   ]
  },
  {
   "cell_type": "markdown",
   "metadata": {},
   "source": [
    "## 초등학교"
   ]
  },
  {
   "cell_type": "code",
   "execution_count": null,
   "metadata": {},
   "outputs": [],
   "source": [
    "elementary = pd.read_csv('/home/lee/dev_ws/projects/project01/data/초등학교.csv',header=3, encoding='utf-8')\n",
    "elementary = elementary[['자치구별(2)','소계']]\n",
    "elementary.rename(columns={'자치구별(2)':'자치구', '소계':'계'}, inplace=True)\n",
    "elementary = elementary[elementary['자치구']!='소계']\n",
    "\n",
    "elementary = elementary.set_index('자치구')\n",
    "elementary = elementary.reset_index()\n",
    "elementary['타입'] = '초등학교'"
   ]
  },
  {
   "cell_type": "markdown",
   "metadata": {},
   "source": [
    "### 결과 elementary"
   ]
  },
  {
   "cell_type": "code",
   "execution_count": null,
   "metadata": {},
   "outputs": [],
   "source": [
    "elementary['타입'] = '초등학교'"
   ]
  },
  {
   "cell_type": "markdown",
   "metadata": {},
   "source": [
    "## 중학교"
   ]
  },
  {
   "cell_type": "code",
   "execution_count": null,
   "metadata": {},
   "outputs": [],
   "source": [
    "middle = pd.read_csv('/home/lee/dev_ws/projects/project01/data/중학교_390.csv', encoding='euc-kr')\n",
    "\n",
    "middle = middle[['도로명주소', '학교명', '설립구분']]\n",
    "middle['자치구'] = [gu.split(' ')[1] for gu in middle['도로명주소']]\n",
    "\n",
    "middle = pd.pivot_table(\n",
    "    data=middle,\n",
    "    columns='자치구',\n",
    "    values='학교명',\n",
    "    aggfunc='count'\n",
    ").T.reset_index()\n",
    "\n",
    "middle.rename(columns={'학교명':'계'},inplace=True)\n",
    "\n",
    "middle['타입'] = '중학교'"
   ]
  },
  {
   "cell_type": "markdown",
   "metadata": {},
   "source": [
    "### 결과 middle"
   ]
  },
  {
   "cell_type": "code",
   "execution_count": null,
   "metadata": {},
   "outputs": [],
   "source": [
    "\n",
    "\n",
    "middle.head()"
   ]
  },
  {
   "cell_type": "markdown",
   "metadata": {},
   "source": [
    "## 고등학교 "
   ]
  },
  {
   "cell_type": "code",
   "execution_count": null,
   "metadata": {},
   "outputs": [],
   "source": [
    "high = pd.read_csv('/home/lee/dev_ws/projects/project01/data/고등학교_318.csv', encoding='euc-kr')\n",
    "\n",
    "high = high[['도로명주소', '학교명', '설립구분']]\n",
    "high['자치구'] = [gu.split(' ')[1] for gu in high['도로명주소']]\n",
    "high = pd.pivot_table(\n",
    "    data=high,\n",
    "    columns='자치구',\n",
    "    values='학교명',\n",
    "    aggfunc='count'\n",
    ").T.reset_index()\n",
    "\n",
    "high.rename(columns={'학교명':'계'},inplace=True)\n",
    "\n",
    "high = high.set_index('자치구')\n",
    "high = high.sort_values('계')\n",
    "high['타입'] = '고등학교'\n",
    "high = high.reset_index()"
   ]
  },
  {
   "cell_type": "markdown",
   "metadata": {},
   "source": [
    "### 결과 high"
   ]
  },
  {
   "cell_type": "code",
   "execution_count": null,
   "metadata": {},
   "outputs": [],
   "source": [
    "high.head()"
   ]
  },
  {
   "cell_type": "markdown",
   "metadata": {},
   "source": [
    "## 대학교 "
   ]
  },
  {
   "cell_type": "code",
   "execution_count": null,
   "metadata": {},
   "outputs": [],
   "source": [
    "university = pd.read_excel('/home/lee/dev_ws/projects/project01/data/대학교.xlsx',header=1)\n",
    "\n",
    "university = university[university['시도']=='서울']\n",
    "university = university[['행정구', '학교수']]\n",
    "university = university.drop(26)\n",
    "university.rename(columns={'행정구':'자치구','학교수':'계'},inplace=True)"
   ]
  },
  {
   "cell_type": "markdown",
   "metadata": {},
   "source": [
    "### 결과 university"
   ]
  },
  {
   "cell_type": "code",
   "execution_count": null,
   "metadata": {},
   "outputs": [],
   "source": [
    "university.head()"
   ]
  },
  {
   "cell_type": "markdown",
   "metadata": {},
   "source": [
    "## 학원과 독서실"
   ]
  },
  {
   "cell_type": "code",
   "execution_count": null,
   "metadata": {},
   "outputs": [],
   "source": [
    "academy_studyspace = pd.read_csv('/home/lee/dev_ws/projects/project01/data/학원_독서실.csv',encoding='utf-8')\n",
    "academy_studyspace = academy_studyspace[['자치구별(2)','2023.1','2023.2','2023.4','2023.6','2023.20']]\n",
    "\n",
    "academy_studyspace.rename(columns={\n",
    "    '자치구별(2)':'자치구',\n",
    "    '2023.1':'계',\n",
    "    '2023.2':'입시학원계',\n",
    "    '2023.4':'예체능학원계',\n",
    "    '2023.6':'입시컨설팅계',\n",
    "    '2023.20':'독서실계'\n",
    "},inplace=True)\n",
    "\n",
    "academy_studyspace = academy_studyspace.drop([0,1,2,3,4])\n",
    "\n",
    "academy_studyspace = academy_studyspace.set_index('자치구')\n",
    "academy_studyspace = academy_studyspace.reset_index()"
   ]
  },
  {
   "cell_type": "markdown",
   "metadata": {},
   "source": [
    "### 학원 데이터"
   ]
  },
  {
   "cell_type": "markdown",
   "metadata": {},
   "source": [
    "#### 결과 test_prep_acad"
   ]
  },
  {
   "cell_type": "code",
   "execution_count": null,
   "metadata": {},
   "outputs": [],
   "source": [
    "# 입시학원\n",
    "test_prep_acad = academy_studyspace[['자치구', '입시학원계']]\n",
    "\n",
    "test_prep_acad = test_prep_acad.set_index('자치구')\n",
    "test_prep_acad['입시학원계'] = test_prep_acad['입시학원계'].astype(int)\n",
    "test_prep_acad = test_prep_acad.sort_values('입시학원계')\n",
    "\n",
    "test_prep_acad.rename(columns={'입시학원계':'계'},inplace=True)\n",
    "\n",
    "test_prep_acad['타입'] = '입시학원'\n"
   ]
  },
  {
   "cell_type": "markdown",
   "metadata": {},
   "source": [
    "#### 예체능학원 결과 art_sport_acad"
   ]
  },
  {
   "cell_type": "code",
   "execution_count": null,
   "metadata": {},
   "outputs": [],
   "source": [
    "# 에체능학원\n",
    "art_sport_acad = academy_studyspace[['자치구', '예체능학원계']]\n",
    "\n",
    "art_sport_acad = art_sport_acad.set_index('자치구')\n",
    "art_sport_acad['예체능학원계'] = art_sport_acad['예체능학원계'].astype(int)\n",
    "art_sport_acad = art_sport_acad.sort_values('예체능학원계')\n",
    "\n",
    "art_sport_acad['타입'] = '예체능학원'\n",
    "\n",
    "art_sport_acad.rename(columns={'예체능학원계':'계'},inplace=True)"
   ]
  },
  {
   "cell_type": "markdown",
   "metadata": {},
   "source": [
    "### 독서실"
   ]
  },
  {
   "cell_type": "markdown",
   "metadata": {},
   "source": [
    "#### 결과 study_space"
   ]
  },
  {
   "cell_type": "code",
   "execution_count": null,
   "metadata": {},
   "outputs": [],
   "source": [
    "study_space = academy_studyspace[['자치구', '독서실계']]\n",
    "\n",
    "study_space = study_space.set_index('자치구')\n",
    "study_space['독서실계'] = study_space['독서실계'].astype(int)\n",
    "study_space = study_space.sort_values('독서실계')\n",
    "\n",
    "study_space['타입'] = '독서실'"
   ]
  },
  {
   "cell_type": "markdown",
   "metadata": {},
   "source": [
    "## 도서관"
   ]
  },
  {
   "cell_type": "code",
   "execution_count": null,
   "metadata": {},
   "outputs": [],
   "source": [
    "library = pd.read_csv('/home/lee/dev_ws/projects/project01/data/도서관.csv',header=2,encoding='utf-8')\n",
    "\n",
    "library = library.drop('자치구별(1)',axis=1)\n",
    "library = library.drop([0,26])\n",
    "\n",
    "library.rename(columns={\n",
    "    '자치구별(2)':'자치구',\n",
    "    '소계':'계'\n",
    "},inplace=True)\n",
    "\n",
    "library = library.set_index('자치구')\n",
    "library = library.reset_index()\n",
    "library = library[['자치구','계']]\n",
    "\n",
    "library = library.set_index('자치구')\n",
    "library['계'] = library['계'].astype(int)\n",
    "library = library.sort_values('계')\n",
    "\n",
    "library['타입'] = '도서관'"
   ]
  },
  {
   "cell_type": "markdown",
   "metadata": {},
   "source": [
    "#### 결과 library"
   ]
  },
  {
   "cell_type": "markdown",
   "metadata": {},
   "source": [
    "## 진학율&취업"
   ]
  },
  {
   "cell_type": "code",
   "execution_count": null,
   "metadata": {},
   "outputs": [],
   "source": [
    "admit_employ = pd.read_csv('/home/lee/dev_ws/projects/project01/data/진학률.csv',header=1,encoding='utf-8')\n",
    "\n",
    "admit_employ.rename(columns={\n",
    "    '자치구별(2)':'자치구',\n",
    "    '고등학교별(2)':'학교별',\n",
    "    '졸업자 (명)':'졸업자',\n",
    "    '진학자수 (명)':'진학자',\n",
    "    '진학률 (%)':'진학률',\n",
    "    '취업자 (명)':'취업자'\n",
    "},inplace=True)\n",
    "\n",
    "admit_employ = admit_employ[['자치구','학교별','졸업자','진학자','진학률','취업자']]\n",
    "\n",
    "admit_employ = admit_employ[admit_employ['자치구']!='소계']\n",
    "\n",
    "admit_employ = admit_employ.set_index('자치구')\n",
    "admit_employ = admit_employ.reset_index()"
   ]
  },
  {
   "cell_type": "markdown",
   "metadata": {},
   "source": [
    "### 진학률 결과 admit_rate"
   ]
  },
  {
   "cell_type": "code",
   "execution_count": null,
   "metadata": {},
   "outputs": [],
   "source": [
    "# 자치구별 진학률\n",
    "admit_rate = admit_employ[['자치구','진학률','학교별','진학자']]\n",
    "admit_rate = admit_rate[admit_rate['학교별']=='소계']\n",
    "admit_rate = admit_rate.set_index('자치구')\n",
    "admit_rate = admit_rate.reset_index()\n",
    "admit_rate = admit_rate.drop('학교별', axis=1)\n",
    "\n",
    "admit_rate = admit_rate.set_index('자치구')\n",
    "admit_rate = admit_rate.sort_values('진학률')"
   ]
  },
  {
   "cell_type": "markdown",
   "metadata": {},
   "source": [
    "### 취업률 결과 employ_rate"
   ]
  },
  {
   "cell_type": "code",
   "execution_count": null,
   "metadata": {},
   "outputs": [],
   "source": [
    "# 자치구별 취업률\n",
    "employ_rate = admit_employ[['자치구','졸업자','취업자','학교별']]\n",
    "employ_rate = employ_rate[employ_rate['학교별']=='소계']\n",
    "employ_rate = employ_rate.set_index('자치구')\n",
    "employ_rate = employ_rate.reset_index()\n",
    "employ_rate = employ_rate.drop('학교별', axis=1)\n",
    "\n",
    "tmp = []\n",
    "\n",
    "for i in range(len(employ_rate)):\n",
    "    tmp.append(round((int(employ_rate['취업자'][i])/int(employ_rate['졸업자'][i])*100),1))\n",
    "\n",
    "employ_rate['취업률'] = tmp\n",
    "employ_rate = employ_rate[['자치구','취업률','취업자']]\n",
    "\n",
    "employ_rate = employ_rate.set_index('자치구')\n",
    "employ_rate = employ_rate.sort_values('취업률')"
   ]
  },
  {
   "cell_type": "markdown",
   "metadata": {},
   "source": [
    "## 모든 데이터 합치기"
   ]
  },
  {
   "cell_type": "code",
   "execution_count": null,
   "metadata": {},
   "outputs": [],
   "source": [
    "# school\n",
    "\n",
    "school = pd.concat([daycare_center,preschool,elementary, middle, high], ignore_index=False)\n",
    "\n",
    "school = school.sort_values('자치구').reset_index().drop('index',axis=1)"
   ]
  },
  {
   "cell_type": "code",
   "execution_count": null,
   "metadata": {},
   "outputs": [],
   "source": [
    "# academy\n",
    "\n",
    "academy = pd.concat([test_prep_acad, art_sport_acad],ignore_index=False)"
   ]
  },
  {
   "cell_type": "code",
   "execution_count": null,
   "metadata": {},
   "outputs": [],
   "source": [
    "# learning_space\n",
    "\n",
    "learning_space = pd.concat([test_prep_acad, art_sport_acad],ignore_index=False)\n",
    "\n",
    "learning_space = learning_space.sort_values(['자치구']).reset_index()"
   ]
  },
  {
   "cell_type": "markdown",
   "metadata": {},
   "source": [
    "## 시각화"
   ]
  },
  {
   "cell_type": "code",
   "execution_count": null,
   "metadata": {},
   "outputs": [],
   "source": [
    "import matplotlib.pyplot as plt\n",
    "import koreanize_matplotlib\n",
    "\n",
    "high['계'].plot(kind='barh', grid=True, figsize=(8,8))"
   ]
  },
  {
   "cell_type": "markdown",
   "metadata": {},
   "source": [
    "* **노원구, 강서구, 강남구, 송파구, 은평구 순으로 고등학교 수가 많다**"
   ]
  },
  {
   "cell_type": "code",
   "execution_count": null,
   "metadata": {},
   "outputs": [],
   "source": [
    "test_prep_acad['입시학원계'].plot(kind='barh', grid=True, figsize=(8,8))"
   ]
  },
  {
   "cell_type": "markdown",
   "metadata": {},
   "source": [
    "* **강남구, 양천구, 송파구, 서초구, 노원구 순으로 입시 학원 수가 많다**"
   ]
  },
  {
   "cell_type": "code",
   "execution_count": null,
   "metadata": {},
   "outputs": [],
   "source": [
    "art_sport_acad['예체능학원계'].plot(kind='barh', grid=True, figsize=(8,8))"
   ]
  },
  {
   "cell_type": "markdown",
   "metadata": {},
   "source": [
    "* **강남구 송파구 마포구 강서구 강동구 순으로 예체능 학원 수가 많다**"
   ]
  },
  {
   "cell_type": "code",
   "execution_count": null,
   "metadata": {},
   "outputs": [],
   "source": [
    "study_space['독서실계'].plot(kind='barh', grid=True, figsize=(8,8))"
   ]
  },
  {
   "cell_type": "markdown",
   "metadata": {},
   "source": [
    "* **강남구 송파구 서초구 양펀구 강서구 순으로 독서실 수가 많다**"
   ]
  },
  {
   "cell_type": "code",
   "execution_count": null,
   "metadata": {},
   "outputs": [],
   "source": [
    "library['계'].plot(kind='barh', grid=True, figsize=(8,8))"
   ]
  },
  {
   "cell_type": "markdown",
   "metadata": {},
   "source": [
    "* **서초구 종로구 중구 강남구 성북수 순으로 도서관 수가 많다**"
   ]
  },
  {
   "cell_type": "code",
   "execution_count": null,
   "metadata": {},
   "outputs": [],
   "source": [
    "admit_rate['진학률'].plot(kind='barh', grid=True, figsize=(8,8))"
   ]
  },
  {
   "cell_type": "markdown",
   "metadata": {},
   "source": [
    "* **진학률은 동대문구 금천구 서대문구 강동구 구로구 순으로 많지만 크게 차이가 나지는 않늗다**"
   ]
  },
  {
   "cell_type": "code",
   "execution_count": null,
   "metadata": {},
   "outputs": [],
   "source": [
    "employ_rate['취업률'].plot(kind='barh', grid=True, figsize=(8,8))"
   ]
  },
  {
   "cell_type": "markdown",
   "metadata": {},
   "source": [
    "* **진학을 하지 않고 바로 취업한 사람들은 중구 금천구 관악구 성북구 용산구 순으로 많다**"
   ]
  },
  {
   "cell_type": "code",
   "execution_count": null,
   "metadata": {},
   "outputs": [],
   "source": [
    "high_sort = high.sort_values('자치구').set_index('자치구')\n",
    "admit_rate_sort = admit_rate.sort_values('자치구')"
   ]
  },
  {
   "cell_type": "code",
   "execution_count": null,
   "metadata": {},
   "outputs": [],
   "source": [
    "high_sort.head()"
   ]
  },
  {
   "cell_type": "code",
   "execution_count": null,
   "metadata": {},
   "outputs": [],
   "source": [
    "admit_rate_sort.head()"
   ]
  },
  {
   "cell_type": "code",
   "execution_count": null,
   "metadata": {},
   "outputs": [],
   "source": [
    "high_and_admit = pd.concat((high_sort, admit_rate_sort), axis=1)\n",
    "high_and_admit.head()"
   ]
  },
  {
   "cell_type": "code",
   "execution_count": null,
   "metadata": {},
   "outputs": [],
   "source": [
    "import seaborn as sns\n",
    "\n",
    "high_and_admit = high_and_admit.sort_values('계')\n",
    "\n",
    "plt.figure(figsize=(8,8))\n",
    "sns.barplot(x='자치구',y='계',data=high_and_admit, hue='자치구')\n",
    "sns.lineplot(x='자치구',y='진학률',data=high_and_admit, marker='o', markersize=10)\n",
    "plt.xticks(rotation=45)\n"
   ]
  },
  {
   "cell_type": "markdown",
   "metadata": {},
   "source": [
    "* **각 행정구역별 고등학교 수와 진학률을 비교해봤을 때 상관이 없어 보인다**"
   ]
  },
  {
   "cell_type": "code",
   "execution_count": null,
   "metadata": {},
   "outputs": [],
   "source": [
    "acad_sort = academy_studyspace[['자치구', '계']].sort_values('자치구').set_index('자치구')\n",
    "acad_num = 0\n",
    "for i in acad_sort['계']:\n",
    "    acad_num+=int(i)\n",
    "\n",
    "print(acad_num)\n",
    "tmp = []\n",
    "\n",
    "for num in acad_sort['계']:\n",
    "    tmp.append(round((int(num)/acad_num*100),1))\n",
    "\n",
    "acad_sort['비율'] = tmp\n",
    "acad_sort.head()"
   ]
  },
  {
   "cell_type": "code",
   "execution_count": null,
   "metadata": {},
   "outputs": [],
   "source": [
    "admit_rate_sort.head()"
   ]
  },
  {
   "cell_type": "code",
   "execution_count": null,
   "metadata": {},
   "outputs": [],
   "source": [
    "acad_and_admit = pd.concat((acad_sort, admit_rate_sort), axis=1)\n",
    "acad_and_admit"
   ]
  },
  {
   "cell_type": "code",
   "execution_count": null,
   "metadata": {},
   "outputs": [],
   "source": [
    "acad_and_admit = acad_and_admit.sort_values('진학률',ascending=False)"
   ]
  },
  {
   "cell_type": "code",
   "execution_count": null,
   "metadata": {},
   "outputs": [],
   "source": [
    "import seaborn as sns\n",
    "\n",
    "plt.figure(figsize=(8,8))\n",
    "sns.barplot(x='자치구',y='진학률',data=acad_and_admit, hue='자치구')\n",
    "sns.lineplot(x='자치구',y='비율',data=acad_and_admit, marker='o', markersize=10)\n",
    "plt.xticks(rotation=45)"
   ]
  },
  {
   "cell_type": "code",
   "execution_count": null,
   "metadata": {},
   "outputs": [],
   "source": []
  }
 ],
 "metadata": {
  "kernelspec": {
   "display_name": "eda_venv",
   "language": "python",
   "name": "python3"
  },
  "language_info": {
   "codemirror_mode": {
    "name": "ipython",
    "version": 3
   },
   "file_extension": ".py",
   "mimetype": "text/x-python",
   "name": "python",
   "nbconvert_exporter": "python",
   "pygments_lexer": "ipython3",
   "version": "3.10.12"
  }
 },
 "nbformat": 4,
 "nbformat_minor": 2
}
