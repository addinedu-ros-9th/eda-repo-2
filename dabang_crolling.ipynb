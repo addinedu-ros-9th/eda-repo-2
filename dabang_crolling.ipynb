{
 "cells": [
  {
   "cell_type": "markdown",
   "metadata": {},
   "source": [
    "다방 크롤링 가능할까"
   ]
  },
  {
   "cell_type": "code",
   "execution_count": 68,
   "metadata": {},
   "outputs": [],
   "source": [
    "from selenium import webdriver\n",
    "from selenium.webdriver.chrome.service import Service\n",
    "\n",
    "url = \"https://www.dabangapp.com/\"\n",
    "driver = webdriver.Chrome(service=Service(\"../driver/chromedriver\"))\n",
    "\n",
    "driver.get(url)"
   ]
  },
  {
   "cell_type": "code",
   "execution_count": 69,
   "metadata": {},
   "outputs": [],
   "source": [
    "from selenium.webdriver.common.by import By\n",
    "\n",
    "onetwo_btn = driver.find_element(By.CSS_SELECTOR, \".sc-chSgpA.ifjqKB\")\n",
    "onetwo_btn.click()"
   ]
  },
  {
   "cell_type": "code",
   "execution_count": 70,
   "metadata": {},
   "outputs": [],
   "source": [
    "monthly_btn = driver.find_element(By.XPATH, '//*[@id=\"root\"]/section/div[2]/div[1]/div[1]/button')\n",
    "monthly_btn.click()"
   ]
  },
  {
   "cell_type": "code",
   "execution_count": 72,
   "metadata": {},
   "outputs": [],
   "source": [
    "disable_btn = driver.find_element(By.XPATH, '//*[@id=\"dock-content-gvzhoe\"]/div[1]/div/label[2]/p')\n",
    "disable_btn.click()"
   ]
  },
  {
   "cell_type": "code",
   "execution_count": 74,
   "metadata": {},
   "outputs": [],
   "source": [
    "additional_btn = driver.find_element(By.XPATH, '//*[@id=\"root\"]/section/div[2]/div[1]/div[5]/button')\n",
    "additional_btn.click()"
   ]
  },
  {
   "cell_type": "code",
   "execution_count": 76,
   "metadata": {},
   "outputs": [],
   "source": [
    "disable_btn2 = driver.find_element(By.XPATH, '//*[@id=\"dock-content-rxuftp\"]/div[2]/div/label[2]/p')\n",
    "disable_btn2.click()"
   ]
  },
  {
   "cell_type": "code",
   "execution_count": 77,
   "metadata": {},
   "outputs": [],
   "source": [
    "html = driver.page_source"
   ]
  },
  {
   "cell_type": "code",
   "execution_count": 89,
   "metadata": {},
   "outputs": [],
   "source": [
    "subway_names = ['논현역']"
   ]
  },
  {
   "cell_type": "code",
   "execution_count": 110,
   "metadata": {},
   "outputs": [
    {
     "name": "stderr",
     "output_type": "stream",
     "text": [
      "100%|██████████| 1/1 [00:00<00:00,  1.28it/s]\n"
     ]
    }
   ],
   "source": [
    "import re\n",
    "from tqdm import tqdm\n",
    "from bs4 import BeautifulSoup\n",
    "from selenium import webdriver\n",
    "from selenium.webdriver.support.wait import WebDriverWait\n",
    "from selenium.webdriver.support import expected_conditions as EC\n",
    "\n",
    "for idx, subway_name in tqdm(enumerate(subway_names), total=len(subway_names)):\n",
    "    search_btn = driver.find_element(By.ID, \"search-input\")\n",
    "    search_btn.click()\n",
    "    search_btn.clear()\n",
    "    search_btn.send_keys(subway_name)\n",
    "\n",
    "    # select_subway_btn = driver.find_elements(By.CSS_SELECTOR, '.sc-ipolYl.ctmvTb')\n",
    "    select_subway_btn = WebDriverWait(driver, 10).until(\n",
    "        EC.element_to_be_clickable((By.CSS_SELECTOR, \".sc-ipolYl.ctmvTb\")))\n",
    "\n",
    "    driver.execute_script(\"arguments[0].click();\", select_subway_btn)\n",
    "\n",
    "    # WebDriverWait(driver, 5).until(EC.presence_of_all_elements_located((By.CSS_SELECTOR, \".sc-esMiiG.bjPrKg\")))\n",
    "\n",
    "    html = driver.page_source\n",
    "    soup = BeautifulSoup(html, \"html.parser\")\n",
    "\n",
    "    items = soup.find_all(class_=\"sc-esMiiG bjPrKg\")\n",
    "\n",
    "    for item in items:\n",
    "        item.click()\n",
    "\n",
    "        num = driver.find_element(By.CSS_SELECTOR, '.sc-bbpOkG.drjHWP')\n",
    "        print(num)\n",
    "\n",
    "        "
   ]
  },
  {
   "cell_type": "code",
   "execution_count": null,
   "metadata": {},
   "outputs": [
    {
     "name": "stderr",
     "output_type": "stream",
     "text": [
      "  0%|          | 0/1 [00:00<?, ?it/s]"
     ]
    },
    {
     "name": "stdout",
     "output_type": "stream",
     "text": [
      "매물번호 49636895\n",
      "매물번호 49576480\n",
      "매물번호 49602367\n",
      "매물번호 49220275\n",
      "매물번호 49640070\n",
      "매물번호 49209729\n",
      "매물번호 49272410\n",
      "매물번호 49214484\n",
      "매물번호 49491097\n",
      "매물번호 49540574\n",
      "매물번호 48752249\n",
      "매물번호 49646895\n",
      "매물번호 49629464\n",
      "매물번호 49500579\n",
      "매물번호 49568057\n",
      "매물번호 49468659\n",
      "매물번호 49411660\n",
      "매물번호 48791280\n",
      "매물번호 49351661\n",
      "매물번호 49611469\n",
      "매물번호 49646944\n",
      "매물번호 49646896\n"
     ]
    },
    {
     "name": "stderr",
     "output_type": "stream",
     "text": [
      "100%|██████████| 1/1 [00:14<00:00, 14.53s/it]"
     ]
    },
    {
     "name": "stdout",
     "output_type": "stream",
     "text": [
      "매물번호 49412092\n"
     ]
    },
    {
     "name": "stderr",
     "output_type": "stream",
     "text": [
      "\n"
     ]
    }
   ],
   "source": [
    "from selenium.webdriver.common.action_chains import ActionChains\n",
    "from selenium.webdriver.support.ui import WebDriverWait\n",
    "from selenium.webdriver.support import expected_conditions as EC\n",
    "from selenium.webdriver.common.by import By\n",
    "from bs4 import BeautifulSoup\n",
    "from tqdm import tqdm\n",
    "\n",
    "for idx, subway_name in tqdm(enumerate(subway_names), total=len(subway_names)):\n",
    "    search_btn = driver.find_element(By.ID, \"search-input\")\n",
    "    search_btn.click()\n",
    "    search_btn.clear()\n",
    "    search_btn.send_keys(subway_name)\n",
    "\n",
    "    select_subway_btn = driver.find_elements(By.XPATH, \"//*[contains(@class, 'sc-ipolYl ctmvTb')]\")\n",
    "\n",
    "    # ActionChains 사용하여 클릭\n",
    "    actions = ActionChains(driver)\n",
    "    actions.move_to_element(select_subway_btn[0]).click().perform()\n",
    "\n",
    "    WebDriverWait(driver, 5).until(\n",
    "        EC.presence_of_all_elements_located((By.XPATH, \"//*[contains(@class, 'sc-cXgUXW gLPpTW')]\"))\n",
    "    )\n",
    "\n",
    "    items = driver.find_elements(By.XPATH, \"//*[contains(@class, 'sc-cXgUXW deBrSC')]\")\n",
    "\n",
    "    if not items:\n",
    "        print(f\"❌ {subway_name}: 'sc-esMiiG bjPrKg' 요소를 찾을 수 없음\")\n",
    "        continue  # 다음 지하철 이름으로 넘어감\n",
    "\n",
    "    for i in range(1, 6):\n",
    "        driver.find_elemens(By.XPATH, \"//*[contains(@class, 'sc-gudXTU dJcfLu')]\")\n",
    "        driver.find_elemens(By.XPATH, \"//*[contains(@class, 'sc-gudXTU gLcyRK')]\")[i]\n",
    "        for item in items:\n",
    "            driver.execute_script(\"arguments[0].click();\", item)\n",
    "\n",
    "            num = WebDriverWait(driver, 10).until(\n",
    "                EC.presence_of_element_located((By.CSS_SELECTOR, '.sc-bbpOkG.drjHWP'))\n",
    "            )\n",
    "            print(num.text)\n"
   ]
  },
  {
   "cell_type": "code",
   "execution_count": 59,
   "metadata": {},
   "outputs": [],
   "source": [
    "import mysql.connector\n",
    "\n",
    "conn = mysql.connector.connect(\n",
    "    host = \"database-1.cbwuowec22t2.ap-northeast-2.rds.amazonaws.com\",\n",
    "    port = 3306,\n",
    "    user = \"root\",\n",
    "    password = \"AWSkco79277927!!\",\n",
    "    database = \"ckimdb\"\n",
    ")"
   ]
  },
  {
   "cell_type": "code",
   "execution_count": null,
   "metadata": {},
   "outputs": [],
   "source": [
    "cur = conn.cursor()\n",
    "cur.execute(\"CREATE TABLE starbucks(name varchar(16) NOT NULL, address varchar(64) NOT NULL, gu varchar(16), dong varchar(16))\")"
   ]
  }
 ],
 "metadata": {
  "kernelspec": {
   "display_name": "sql_venv",
   "language": "python",
   "name": "python3"
  },
  "language_info": {
   "codemirror_mode": {
    "name": "ipython",
    "version": 3
   },
   "file_extension": ".py",
   "mimetype": "text/x-python",
   "name": "python",
   "nbconvert_exporter": "python",
   "pygments_lexer": "ipython3",
   "version": "3.10.12"
  }
 },
 "nbformat": 4,
 "nbformat_minor": 2
}
